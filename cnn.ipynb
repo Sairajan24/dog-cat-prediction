{
 "cells": [
  {
   "cell_type": "code",
   "execution_count": 9,
   "id": "a4cc9d73",
   "metadata": {},
   "outputs": [],
   "source": [
    "from keras.models import Sequential\n",
    "from keras.layers import Convolution2D\n",
    "from keras.layers import MaxPooling2D\n",
    "from keras.layers import Flatten\n",
    "from keras.layers import Dense\n",
    "from keras.models import model_from_json\n",
    "from tensorflow.keras.preprocessing.image import ImageDataGenerator\n",
    "import tensorflow as tf\n",
    "from tensorflow.keras.optimizers import RMSprop\n"
   ]
  },
  {
   "cell_type": "code",
   "execution_count": 10,
   "id": "de0fe942",
   "metadata": {},
   "outputs": [],
   "source": [
    " batch_size = 32\n",
    "   "
   ]
  },
  {
   "cell_type": "code",
   "execution_count": 11,
   "id": "937346cc",
   "metadata": {},
   "outputs": [],
   "source": [
    "train_datagen = ImageDataGenerator(rescale=1/255)\n"
   ]
  },
  {
   "cell_type": "code",
   "execution_count": 38,
   "id": "58a5e2bc",
   "metadata": {},
   "outputs": [
    {
     "name": "stdout",
     "output_type": "stream",
     "text": [
      "Found 1152 images belonging to 2 classes.\n"
     ]
    }
   ],
   "source": [
    "train_generator = train_datagen.flow_from_directory(\n",
    "        'data',  \n",
    "        target_size=(200, 200),  \n",
    "        batch_size=batch_size,\n",
    "        classes = ['Cat','dog'],\n",
    "        class_mode='categorical')"
   ]
  },
  {
   "cell_type": "code",
   "execution_count": 39,
   "id": "c8c15439",
   "metadata": {},
   "outputs": [],
   "source": [
    "import tensorflow as tf\n",
    "\n",
    "model = tf.keras.models.Sequential([\n",
    "    tf.keras.layers.Conv2D(16, (3,3), activation='relu', input_shape=(200, 200, 3)),\n",
    "    tf.keras.layers.MaxPooling2D(2, 2),\n",
    "    tf.keras.layers.Conv2D(32, (3,3), activation='relu'),\n",
    "    tf.keras.layers.MaxPooling2D(2, 2),\n",
    "    tf.keras.layers.Conv2D(64, (3,3), activation='relu'),\n",
    "    tf.keras.layers.MaxPooling2D(2, 2),\n",
    "    tf.keras.layers.Conv2D(64, (3,3), activation='relu'),\n",
    "    tf.keras.layers.MaxPooling2D(2, 2),\n",
    "    tf.keras.layers.Conv2D(64, (3,3), activation='relu'),\n",
    "    tf.keras.layers.MaxPooling2D(2, 2),\n",
    "    tf.keras.layers.Flatten(),\n",
    "    tf.keras.layers.Dense(128),\n",
    "    tf.keras.layers.LeakyReLU(alpha=0.01),  # Corrected Leaky ReLU activation\n",
    "    tf.keras.layers.Dense( 2,activation='sigmoid')\n",
    "])\n"
   ]
  },
  {
   "cell_type": "code",
   "execution_count": 40,
   "id": "c2940d9a",
   "metadata": {},
   "outputs": [
    {
     "name": "stderr",
     "output_type": "stream",
     "text": [
      "WARNING:absl:`lr` is deprecated in Keras optimizer, please use `learning_rate` or use the legacy optimizer, e.g.,tf.keras.optimizers.legacy.RMSprop.\n"
     ]
    }
   ],
   "source": [
    "model.compile(loss='categorical_crossentropy',\n",
    "              optimizer=RMSprop(lr=0.001),\n",
    "              metrics=['acc'])"
   ]
  },
  {
   "cell_type": "code",
   "execution_count": 41,
   "id": "8237799c",
   "metadata": {},
   "outputs": [],
   "source": [
    "total_sample=train_generator.n\n",
    "n_epochs = 30\n"
   ]
  },
  {
   "cell_type": "code",
   "execution_count": 42,
   "id": "791a0f8c",
   "metadata": {},
   "outputs": [
    {
     "name": "stderr",
     "output_type": "stream",
     "text": [
      "C:\\Users\\hp\\AppData\\Local\\Temp\\ipykernel_8424\\2797690472.py:1: UserWarning: `Model.fit_generator` is deprecated and will be removed in a future version. Please use `Model.fit`, which supports generators.\n",
      "  history = model.fit_generator(\n"
     ]
    },
    {
     "name": "stdout",
     "output_type": "stream",
     "text": [
      "Epoch 1/30\n",
      "36/36 [==============================] - 33s 850ms/step - loss: 0.6998 - acc: 0.5182\n",
      "Epoch 2/30\n",
      "36/36 [==============================] - 27s 752ms/step - loss: 0.6900 - acc: 0.5382\n",
      "Epoch 3/30\n",
      "36/36 [==============================] - 27s 761ms/step - loss: 0.6823 - acc: 0.5642\n",
      "Epoch 4/30\n",
      "36/36 [==============================] - 27s 753ms/step - loss: 0.6687 - acc: 0.6163\n",
      "Epoch 5/30\n",
      "36/36 [==============================] - 27s 744ms/step - loss: 0.6092 - acc: 0.6788\n",
      "Epoch 6/30\n",
      "36/36 [==============================] - 27s 768ms/step - loss: 0.5839 - acc: 0.6927\n",
      "Epoch 7/30\n",
      "36/36 [==============================] - 27s 742ms/step - loss: 0.5370 - acc: 0.7283\n",
      "Epoch 8/30\n",
      "36/36 [==============================] - 27s 766ms/step - loss: 0.5001 - acc: 0.7630\n",
      "Epoch 9/30\n",
      "36/36 [==============================] - 28s 779ms/step - loss: 0.4673 - acc: 0.7804\n",
      "Epoch 10/30\n",
      "36/36 [==============================] - 27s 751ms/step - loss: 0.4026 - acc: 0.8186\n",
      "Epoch 11/30\n",
      "36/36 [==============================] - 27s 753ms/step - loss: 0.3608 - acc: 0.8455\n",
      "Epoch 12/30\n",
      "36/36 [==============================] - 27s 757ms/step - loss: 0.3209 - acc: 0.8733\n",
      "Epoch 13/30\n",
      "36/36 [==============================] - 27s 730ms/step - loss: 0.2617 - acc: 0.8984\n",
      "Epoch 14/30\n",
      "36/36 [==============================] - 27s 761ms/step - loss: 0.2160 - acc: 0.9175\n",
      "Epoch 15/30\n",
      "36/36 [==============================] - 27s 766ms/step - loss: 0.1821 - acc: 0.9262\n",
      "Epoch 16/30\n",
      "36/36 [==============================] - 27s 727ms/step - loss: 0.1500 - acc: 0.9479\n",
      "Epoch 17/30\n",
      "36/36 [==============================] - 27s 730ms/step - loss: 0.1019 - acc: 0.9627\n",
      "Epoch 18/30\n",
      "36/36 [==============================] - 27s 747ms/step - loss: 0.1175 - acc: 0.9531\n",
      "Epoch 19/30\n",
      "36/36 [==============================] - 27s 722ms/step - loss: 0.0788 - acc: 0.9792\n",
      "Epoch 20/30\n",
      "36/36 [==============================] - 28s 764ms/step - loss: 0.0582 - acc: 0.9835\n",
      "Epoch 21/30\n",
      "36/36 [==============================] - 27s 757ms/step - loss: 0.0535 - acc: 0.9809\n",
      "Epoch 22/30\n",
      "36/36 [==============================] - 27s 741ms/step - loss: 0.0758 - acc: 0.9774\n",
      "Epoch 23/30\n",
      "36/36 [==============================] - 28s 749ms/step - loss: 0.0447 - acc: 0.9878\n",
      "Epoch 24/30\n",
      "36/36 [==============================] - 27s 736ms/step - loss: 0.0789 - acc: 0.9748\n",
      "Epoch 25/30\n",
      "36/36 [==============================] - 27s 750ms/step - loss: 0.0080 - acc: 0.9974\n",
      "Epoch 26/30\n",
      "36/36 [==============================] - 27s 757ms/step - loss: 0.1208 - acc: 0.9766\n",
      "Epoch 27/30\n",
      "36/36 [==============================] - 27s 757ms/step - loss: 0.0349 - acc: 0.9878\n",
      "Epoch 28/30\n",
      "36/36 [==============================] - 27s 710ms/step - loss: 0.0421 - acc: 0.9852\n",
      "Epoch 29/30\n",
      "36/36 [==============================] - 28s 776ms/step - loss: 0.0338 - acc: 0.9896\n",
      "Epoch 30/30\n",
      "36/36 [==============================] - 27s 740ms/step - loss: 0.0263 - acc: 0.9905\n"
     ]
    }
   ],
   "source": [
    "history = model.fit_generator(\n",
    "        train_generator, \n",
    "        steps_per_epoch=int(total_sample/batch_size),  \n",
    "        epochs=n_epochs,\n",
    "        verbose=1)    "
   ]
  },
  {
   "cell_type": "code",
   "execution_count": 45,
   "id": "cd4f114b",
   "metadata": {},
   "outputs": [],
   "source": [
    "model.save('C.h5')\n"
   ]
  },
  {
   "cell_type": "code",
   "execution_count": 50,
   "id": "1750dc71",
   "metadata": {},
   "outputs": [
    {
     "name": "stdout",
     "output_type": "stream",
     "text": [
      "1/1 [==============================] - 0s 260ms/step\n",
      "[[0. 1.]]\n",
      "dog\n"
     ]
    }
   ],
   "source": [
    "\n",
    "\n",
    "import tensorflow as tf \n",
    "classifierLoad = tf.keras.models.load_model('C.h5')\n",
    "\n",
    "import numpy as np\n",
    "from keras.preprocessing import image\n",
    "test_image = image.load_img('C:/Users/hp/Downloads/final/final/data/Dog/12-Well-NL-Dogs-superJumbo.jpg', target_size = (200,200))\n",
    "test_image = np.expand_dims(test_image, axis=0)\n",
    "result = classifierLoad.predict(test_image)\n",
    "print(result)\n",
    "\n",
    "if result[0][0] == 1:\n",
    "    print(\"cat\")\n",
    "else:\n",
    "    print(\"dog\")"
   ]
  },
  {
   "cell_type": "code",
   "execution_count": null,
   "id": "bdf06f85-d88b-49cb-8881-042a1dd41fd7",
   "metadata": {},
   "outputs": [],
   "source": []
  }
 ],
 "metadata": {
  "kernelspec": {
   "display_name": "Python 3 (ipykernel)",
   "language": "python",
   "name": "python3"
  },
  "language_info": {
   "codemirror_mode": {
    "name": "ipython",
    "version": 3
   },
   "file_extension": ".py",
   "mimetype": "text/x-python",
   "name": "python",
   "nbconvert_exporter": "python",
   "pygments_lexer": "ipython3",
   "version": "3.11.7"
  }
 },
 "nbformat": 4,
 "nbformat_minor": 5
}
